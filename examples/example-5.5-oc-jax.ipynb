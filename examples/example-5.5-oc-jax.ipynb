{
 "cells": [
  {
   "cell_type": "code",
   "execution_count": 1,
   "metadata": {},
   "outputs": [],
   "source": [
    "import jax\n",
    "jax.config.update(\"jax_enable_x64\", True)\n",
    "import jax.numpy as jnp\n",
    "import optax\n",
    "import numpy as np\n",
    "from neurolib.models.jax.wc import WCModel\n",
    "from neurolib.models.jax.wc.timeIntegration import timeIntegration_args, timeIntegration_elementwise\n",
    "from neurolib.optimize.autodiff.wc_optimizer import args_names\n",
    "from neurolib.control.optimal_control.oc_jax import OcWc\n",
    "\n",
    "import logging"
   ]
  },
  {
   "cell_type": "code",
   "execution_count": 2,
   "metadata": {},
   "outputs": [],
   "source": [
    "model = WCModel()\n",
    "\n",
    "model.params.duration = 20\n",
    "model.params.sigma_ou = 0\n",
    "model.params.exc_init = jnp.array([[0.1]])\n",
    "model.params.inh_init = jnp.array([[0.1]])"
   ]
  },
  {
   "cell_type": "code",
   "execution_count": 3,
   "metadata": {},
   "outputs": [],
   "source": [
    "args_values = timeIntegration_args(model.params)\n",
    "\n",
    "args = dict(zip(args_names, args_values))"
   ]
  },
  {
   "cell_type": "code",
   "execution_count": 4,
   "metadata": {},
   "outputs": [],
   "source": [
    "ones_target = jnp.ones_like(args['exc_ext'], dtype=float)"
   ]
  },
  {
   "cell_type": "code",
   "execution_count": 5,
   "metadata": {},
   "outputs": [],
   "source": [
    "oc_wc = OcWc(model, ones_target, optimizer=optax.adam(5e0))"
   ]
  },
  {
   "cell_type": "code",
   "execution_count": 6,
   "metadata": {},
   "outputs": [
    {
     "name": "stdout",
     "output_type": "stream",
     "text": [
      "Cost in iteration 0: 9.631590191704923\n",
      "Final cost : 2.8145833213130036\n"
     ]
    }
   ],
   "source": [
    "oc_wc.optimize_deterministic(5)"
   ]
  },
  {
   "cell_type": "code",
   "execution_count": null,
   "metadata": {},
   "outputs": [],
   "source": []
  },
  {
   "cell_type": "markdown",
   "metadata": {},
   "source": [
    "### Oscillating Target"
   ]
  },
  {
   "cell_type": "code",
   "execution_count": 20,
   "metadata": {},
   "outputs": [],
   "source": [
    "# We import the model\n",
    "model = WCModel()\n",
    "\n",
    "# Some parameters to define stimulation signals\n",
    "dt = model.params[\"dt\"]\n",
    "duration = 10.\n",
    "amplitude = 1.\n",
    "period = duration /4.\n",
    "\n",
    "# We define a \"zero-input\", and a sine-input\n",
    "input = jnp.zeros((1, int(duration/dt) + 1))\n",
    "input = input.at[0,1:-1].set(amplitude * jnp.sin(2.*jnp.pi*jnp.arange(0,duration-0.1, dt)/period)) # other functions or random values can be used as well\n",
    "zero_input = jnp.zeros_like(input)\n",
    "\n",
    "# We set the duration of the simulation and the initial values\n",
    "model.params[\"duration\"] = duration\n",
    "x_init = 0.011225367461896877\n",
    "y_init = 0.013126741089502588\n",
    "model.params[\"exc_init\"] = jnp.array([[x_init]])\n",
    "model.params[\"inh_init\"] = jnp.array([[y_init]])"
   ]
  },
  {
   "cell_type": "code",
   "execution_count": 23,
   "metadata": {},
   "outputs": [],
   "source": [
    "# We set the stimulus in x and y variables, and run the simulation\n",
    "model.params[\"exc_ext\"] = input\n",
    "model.params[\"inh_ext\"] = zero_input\n",
    "model.run()\n",
    "\n",
    "# Define the result of the stimulation as target\n",
    "target = jnp.concatenate((jnp.concatenate( (model.params[\"exc_init\"], model.params[\"inh_init\"]), axis=1)[:,:, jnp.newaxis],\n",
    "                          jnp.stack( (model.exc, model.inh), axis=1)), axis=2).transpose((1, 0, 2))"
   ]
  },
  {
   "cell_type": "code",
   "execution_count": 25,
   "metadata": {},
   "outputs": [],
   "source": [
    "oc_wc = OcWc(model, target, optimizer=optax.adam(5e0))"
   ]
  },
  {
   "cell_type": "code",
   "execution_count": 26,
   "metadata": {},
   "outputs": [
    {
     "name": "stdout",
     "output_type": "stream",
     "text": [
      "Cost in iteration 0: 0.0004655563711360722\n",
      "Final cost : 0.2273074401605294\n"
     ]
    }
   ],
   "source": [
    "oc_wc.optimize_deterministic(10)"
   ]
  },
  {
   "cell_type": "code",
   "execution_count": 27,
   "metadata": {},
   "outputs": [
    {
     "ename": "NameError",
     "evalue": "name 'plt' is not defined",
     "output_type": "error",
     "traceback": [
      "\u001b[0;31m---------------------------------------------------------------------------\u001b[0m",
      "\u001b[0;31mNameError\u001b[0m                                 Traceback (most recent call last)",
      "Cell \u001b[0;32mIn[27], line 1\u001b[0m\n\u001b[0;32m----> 1\u001b[0m \u001b[43mplt\u001b[49m\u001b[38;5;241m.\u001b[39mplot(oc_wc\u001b[38;5;241m.\u001b[39mcontrol)\n",
      "\u001b[0;31mNameError\u001b[0m: name 'plt' is not defined"
     ]
    }
   ],
   "source": [
    "plt.plot(oc_wc.control)"
   ]
  },
  {
   "cell_type": "code",
   "execution_count": null,
   "metadata": {},
   "outputs": [],
   "source": []
  },
  {
   "cell_type": "code",
   "execution_count": null,
   "metadata": {},
   "outputs": [],
   "source": []
  },
  {
   "cell_type": "code",
   "execution_count": null,
   "metadata": {},
   "outputs": [],
   "source": [
    "target_input = jnp.concatenate((input, zero_input), axis=0)[jnp.newaxis,:,:]\n",
    "\n",
    "# Remove stimuli and re-run the simulation\n",
    "model.params[\"exc_ext\"] = zero_input\n",
    "model.params[\"inh_ext\"] = zero_input\n",
    "control = jnp.concatenate( (zero_input,zero_input), axis=0)[jnp.newaxis,:,:]\n",
    "model.run()\n",
    "\n",
    "# combine initial value and simulation result to one array\n",
    "state = jnp.concatenate((jnp.concatenate( (model.params[\"exc_init\"], model.params[\"inh_init\"]), axis=1)[:,:, jnp.newaxis],\n",
    "    jnp.stack( (model.exc, model.inh), axis=1)), axis=2)"
   ]
  },
  {
   "cell_type": "code",
   "execution_count": null,
   "metadata": {},
   "outputs": [],
   "source": []
  }
 ],
 "metadata": {
  "kernelspec": {
   "display_name": "neurolib_jax",
   "language": "python",
   "name": "python3"
  },
  "language_info": {
   "codemirror_mode": {
    "name": "ipython",
    "version": 3
   },
   "file_extension": ".py",
   "mimetype": "text/x-python",
   "name": "python",
   "nbconvert_exporter": "python",
   "pygments_lexer": "ipython3",
   "version": "3.12.7"
  }
 },
 "nbformat": 4,
 "nbformat_minor": 2
}
